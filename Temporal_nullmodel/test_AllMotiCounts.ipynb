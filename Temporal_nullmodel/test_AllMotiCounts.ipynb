{
 "cells": [
  {
   "cell_type": "code",
   "execution_count": 20,
   "metadata": {
    "collapsed": true
   },
   "outputs": [],
   "source": [
    "%matplotlib inline\n",
    "import pandas as pd\n",
    "import matplotlib.pyplot as plt"
   ]
  },
  {
   "cell_type": "markdown",
   "metadata": {},
   "source": [
    "## 验证“在保证原始网络度分布不变的情况下，可以采用模体总数作为度量网络随机性的指标，模体总数越多的网络其随机性越强”"
   ]
  },
  {
   "cell_type": "code",
   "execution_count": 3,
   "metadata": {
    "collapsed": false
   },
   "outputs": [],
   "source": [
    "origin = pd.read_csv('./data/counts.txt', sep=' ',header=None)\n",
    "time_randomswap_counts = pd.read_csv('./data/time_randomswap_counts.txt', sep=' ',header=None)\n",
    "time_random_counts = pd.read_csv('./data/time_random_counts.txt', sep=' ',header=None)\n",
    "edges_swap_0k_counts = pd.read_csv('./data/edges_swap_0k_counts.txt', sep=' ',header=None)\n",
    "edges_swap_1k_counts = pd.read_csv('./data/edges_swap_1k_counts.txt', sep=' ',header=None)\n",
    "KeepDayMode_counts = pd.read_csv('./data/KeepDayMode_counts.txt', sep=' ',header=None)\n",
    "KeepMonthMode_counts = pd.read_csv('./data/KeepMonthMode_counts.txt', sep=' ',header=None)\n",
    "KeepWeekMode_counts = pd.read_csv('./data/KeepWeekMode_counts.txt', sep=' ',header=None)\n",
    "sametimewei_counts = pd.read_csv('./data/sametimewei_counts.txt', sep=' ',header=None)\n",
    "time_reverse_counts = pd.read_csv('./data/time_reverse_counts.txt', sep=' ',header=None)\n",
    "time_swap_counts = pd.read_csv('./data/time_swap_counts.txt', sep=' ',header=None)\n",
    "timeweight_swap_counts = pd.read_csv('./data/timeweight_swap_counts.txt', sep=' ',header=None)"
   ]
  },
  {
   "cell_type": "code",
   "execution_count": 29,
   "metadata": {
    "collapsed": false
   },
   "outputs": [
    {
     "data": {
      "text/html": [
       "<div>\n",
       "<table border=\"1\" class=\"dataframe\">\n",
       "  <thead>\n",
       "    <tr style=\"text-align: right;\">\n",
       "      <th></th>\n",
       "      <th>counts</th>\n",
       "    </tr>\n",
       "  </thead>\n",
       "  <tbody>\n",
       "    <tr>\n",
       "      <th>time_random_counts</th>\n",
       "      <td>481775</td>\n",
       "    </tr>\n",
       "    <tr>\n",
       "      <th>edges_swap_1k_counts</th>\n",
       "      <td>493019</td>\n",
       "    </tr>\n",
       "    <tr>\n",
       "      <th>time_swap_counts</th>\n",
       "      <td>9325626</td>\n",
       "    </tr>\n",
       "    <tr>\n",
       "      <th>time_randomswap_counts</th>\n",
       "      <td>11782671</td>\n",
       "    </tr>\n",
       "    <tr>\n",
       "      <th>edges_swap_0k_counts</th>\n",
       "      <td>16017218</td>\n",
       "    </tr>\n",
       "    <tr>\n",
       "      <th>timeweight_swap_counts</th>\n",
       "      <td>16712465</td>\n",
       "    </tr>\n",
       "    <tr>\n",
       "      <th>sametimewei_counts</th>\n",
       "      <td>21600532</td>\n",
       "    </tr>\n",
       "    <tr>\n",
       "      <th>origin</th>\n",
       "      <td>29309331</td>\n",
       "    </tr>\n",
       "    <tr>\n",
       "      <th>KeepWeekMode_counts</th>\n",
       "      <td>29326187</td>\n",
       "    </tr>\n",
       "    <tr>\n",
       "      <th>KeepDayMode_counts</th>\n",
       "      <td>29326795</td>\n",
       "    </tr>\n",
       "    <tr>\n",
       "      <th>KeepMonthMode_counts</th>\n",
       "      <td>29326998</td>\n",
       "    </tr>\n",
       "    <tr>\n",
       "      <th>time_reverse_counts</th>\n",
       "      <td>50606964</td>\n",
       "    </tr>\n",
       "  </tbody>\n",
       "</table>\n",
       "</div>"
      ],
      "text/plain": [
       "                          counts\n",
       "time_random_counts        481775\n",
       "edges_swap_1k_counts      493019\n",
       "time_swap_counts         9325626\n",
       "time_randomswap_counts  11782671\n",
       "edges_swap_0k_counts    16017218\n",
       "timeweight_swap_counts  16712465\n",
       "sametimewei_counts      21600532\n",
       "origin                  29309331\n",
       "KeepWeekMode_counts     29326187\n",
       "KeepDayMode_counts      29326795\n",
       "KeepMonthMode_counts    29326998\n",
       "time_reverse_counts     50606964"
      ]
     },
     "execution_count": 29,
     "metadata": {},
     "output_type": "execute_result"
    }
   ],
   "source": [
    "d = {'origin':origin.values.sum(),\n",
    "      'time_randomswap_counts':time_randomswap_counts.values.sum(),\n",
    "      'time_random_counts':time_random_counts.values.sum(),\n",
    "      'edges_swap_0k_counts':edges_swap_0k_counts.values.sum(),\n",
    "      'edges_swap_1k_counts':edges_swap_1k_counts.values.sum(),\n",
    "      'KeepDayMode_counts':KeepDayMode_counts.values.sum(),\n",
    "      'KeepMonthMode_counts':KeepMonthMode_counts.values.sum(),\n",
    "      'KeepWeekMode_counts':KeepWeekMode_counts.values.sum(),\n",
    "      'sametimewei_counts':sametimewei_counts.values.sum(),\n",
    "      'time_reverse_counts':time_reverse_counts.values.sum(),\n",
    "      'time_swap_counts':time_swap_counts.values.sum(),\n",
    "      'timeweight_swap_counts':timeweight_swap_counts.values.sum()}\n",
    "df = pd.DataFrame(data=d.values(), index=d.keys())\n",
    "df.columns = ['counts']\n",
    "df = df.sort_values('counts')\n",
    "df"
   ]
  },
  {
   "cell_type": "code",
   "execution_count": 31,
   "metadata": {
    "collapsed": false
   },
   "outputs": [
    {
     "data": {
      "text/plain": [
       "<matplotlib.text.Text at 0x7f3a7ce03a50>"
      ]
     },
     "execution_count": 31,
     "metadata": {},
     "output_type": "execute_result"
    },
    {
     "data": {
      "image/png": "[encoded data removed]",
      "text/plain": [
       "<matplotlib.figure.Figure at 0x7f3a7d13b4d0>"
      ]
     },
     "metadata": {},
     "output_type": "display_data"
    }
   ],
   "source": [
    "df.plot(kind='bar',rot=90)\n",
    "plt.title('all moti counts of different nullmodel')"
   ]
  }
 ],
 "metadata": {
  "kernelspec": {
   "display_name": "Python 2",
   "language": "python",
   "name": "python2"
  },
  "language_info": {
   "codemirror_mode": {
    "name": "ipython",
    "version": 2
   },
   "file_extension": ".py",
   "mimetype": "text/x-python",
   "name": "python",
   "nbconvert_exporter": "python",
   "pygments_lexer": "ipython2",
   "version": "2.7.13"
  }
 },
 "nbformat": 4,
 "nbformat_minor": 2
}
