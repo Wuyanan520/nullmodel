{
 "cells": [
  {
   "cell_type": "code",
   "execution_count": 1,
   "metadata": {
    "collapsed": true
   },
   "outputs": [],
   "source": [
    "import pandas as pd\n",
    "import time\n",
    "import re"
   ]
  },
  {
   "cell_type": "code",
   "execution_count": 2,
   "metadata": {
    "collapsed": false
   },
   "outputs": [],
   "source": [
    "sms = pd.read_csv('tb_sms_201202.txt',sep='\\t',header=None)\n",
    "# sms.head()"
   ]
  },
  {
   "cell_type": "code",
   "execution_count": 3,
   "metadata": {
    "collapsed": false
   },
   "outputs": [],
   "source": [
    "sms.columns=['date','node1','node2','sender_label','receive_label','time']\n",
    "# sms.head()"
   ]
  },
  {
   "cell_type": "code",
   "execution_count": 4,
   "metadata": {
    "collapsed": false
   },
   "outputs": [],
   "source": [
    "sms1 = sms[(sms.sender_label==1)&(sms.receive_label==1)]\n",
    "# sms2 = sms[(sms.sender_label==2)&(sms.receive_label==2)]"
   ]
  },
  {
   "cell_type": "code",
   "execution_count": 5,
   "metadata": {
    "collapsed": false
   },
   "outputs": [
    {
     "name": "stdout",
     "output_type": "stream",
     "text": [
      "sms (20947956, 6)\n",
      "sms1 (2661022, 6)\n",
      "sms2 (0, 6)\n"
     ]
    }
   ],
   "source": [
    "# print 'sms',sms.shape\n",
    "# print 'sms1',sms1.shape\n",
    "# print 'sms2',sms2.shape"
   ]
  },
  {
   "cell_type": "markdown",
   "metadata": {},
   "source": [
    "都是1的信息量有2661022，占全量的1/10"
   ]
  },
  {
   "cell_type": "code",
   "execution_count": 6,
   "metadata": {
    "collapsed": false
   },
   "outputs": [
    {
     "name": "stdout",
     "output_type": "stream",
     "text": [
      "<class 'pandas.core.frame.DataFrame'>\n",
      "Int64Index: 2661022 entries, 3 to 20649578\n",
      "Data columns (total 6 columns):\n",
      "date             int64\n",
      "node1            int64\n",
      "node2            object\n",
      "sender_label     int64\n",
      "receive_label    int64\n",
      "time             object\n",
      "dtypes: int64(4), object(2)\n",
      "memory usage: 142.1+ MB\n"
     ]
    }
   ],
   "source": [
    "# sms1.info()"
   ]
  },
  {
   "cell_type": "code",
   "execution_count": 5,
   "metadata": {
    "collapsed": false
   },
   "outputs": [
    {
     "name": "stderr",
     "output_type": "stream",
     "text": [
      "/root/anaconda2/lib/python2.7/site-packages/ipykernel/__main__.py:3: SettingWithCopyWarning: \n",
      "A value is trying to be set on a copy of a slice from a DataFrame.\n",
      "Try using .loc[row_indexer,col_indexer] = value instead\n",
      "\n",
      "See the caveats in the documentation: http://pandas.pydata.org/pandas-docs/stable/indexing.html#indexing-view-versus-copy\n",
      "  app.launch_new_instance()\n"
     ]
    }
   ],
   "source": [
    "# 时间转为时间戳\n",
    "a = sms1.date.astype('str')+' '+sms1.time.astype('str')\n",
    "sms1['timestamp'] = a.map(lambda e:time.mktime(time.strptime(e,'%Y%m%d %H:%M:%S')))\n",
    "# sms1.head()\n",
    "    "
   ]
  },
  {
   "cell_type": "code",
   "execution_count": 8,
   "metadata": {
    "collapsed": false
   },
   "outputs": [
    {
     "name": "stdout",
     "output_type": "stream",
     "text": [
      "<class 'pandas.core.frame.DataFrame'>\n",
      "Int64Index: 2661022 entries, 3 to 20649578\n",
      "Data columns (total 7 columns):\n",
      "date             int64\n",
      "node1            int64\n",
      "node2            object\n",
      "sender_label     int64\n",
      "receive_label    int64\n",
      "time             object\n",
      "timestamp        float64\n",
      "dtypes: float64(1), int64(4), object(2)\n",
      "memory usage: 162.4+ MB\n"
     ]
    }
   ],
   "source": [
    "sms1.info()"
   ]
  },
  {
   "cell_type": "code",
   "execution_count": 6,
   "metadata": {
    "collapsed": false
   },
   "outputs": [
    {
     "name": "stderr",
     "output_type": "stream",
     "text": [
      "/root/anaconda2/lib/python2.7/site-packages/pandas/core/generic.py:2773: SettingWithCopyWarning: \n",
      "A value is trying to be set on a copy of a slice from a DataFrame.\n",
      "Try using .loc[row_indexer,col_indexer] = value instead\n",
      "\n",
      "See the caveats in the documentation: http://pandas.pydata.org/pandas-docs/stable/indexing.html#indexing-view-versus-copy\n",
      "  self[name] = value\n"
     ]
    }
   ],
   "source": [
    "sms1.node2 = sms1.node2.apply(lambda x: re.sub('^g-|^g','',str(x)))\n",
    "# sms1.info()"
   ]
  },
  {
   "cell_type": "code",
   "execution_count": 7,
   "metadata": {
    "collapsed": true
   },
   "outputs": [],
   "source": [
    "# 导出数据\n",
    "sms1[['node1','node2','timestamp']].astype(int).to_csv('sms1.txt',index=None,sep=' ',header=None)"
   ]
  }
 ],
 "metadata": {
  "kernelspec": {
   "display_name": "Python 2",
   "language": "python",
   "name": "python2"
  },
  "language_info": {
   "codemirror_mode": {
    "name": "ipython",
    "version": 2
   },
   "file_extension": ".py",
   "mimetype": "text/x-python",
   "name": "python",
   "nbconvert_exporter": "python",
   "pygments_lexer": "ipython2",
   "version": "2.7.13"
  }
 },
 "nbformat": 4,
 "nbformat_minor": 2
}
