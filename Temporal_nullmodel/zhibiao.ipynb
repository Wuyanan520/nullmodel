{
 "cells": [
  {
   "cell_type": "code",
   "execution_count": 1,
   "metadata": {
    "collapsed": true
   },
   "outputs": [],
   "source": [
    "%matplotlib inline\n",
    "import pandas as pd\n",
    "import matplotlib.pyplot as plt\n",
    "import networkx as nx"
   ]
  },
  {
   "cell_type": "code",
   "execution_count": 2,
   "metadata": {
    "collapsed": false
   },
   "outputs": [],
   "source": [
    "def createM(filename):\n",
    "    data = pd.read_csv(filename,header=None,sep=' ')\n",
    "    data.columns = ['n1', 'n2', 'timestamp']\n",
    "    M = nx.from_pandas_dataframe(data,'n1','n2',edge_attr='timestamp', create_using=nx.MultiGraph())\n",
    "    return M"
   ]
  },
  {
   "cell_type": "code",
   "execution_count": 3,
   "metadata": {
    "collapsed": false
   },
   "outputs": [],
   "source": [
    "# create weighted graph from Multigraph\n",
    "def Mg2Wg(M):\n",
    "    G = nx.Graph()\n",
    "    for u,v,data in M.edges_iter(data=True):\n",
    "        if G.has_edge(u,v):\n",
    "            G[u][v]['weight'] += 1\n",
    "        else:\n",
    "            G.add_edge(u, v, weight=1)\n",
    "    return G\n"
   ]
  },
  {
   "cell_type": "code",
   "execution_count": 23,
   "metadata": {
    "collapsed": false
   },
   "outputs": [
    {
     "name": "stdout",
     "output_type": "stream",
     "text": [
      "原始网络的平均聚类系数: 0.503504819173\n"
     ]
    }
   ],
   "source": [
    "M = createM('./data/High-School_data.txt')\n",
    "origin = nx.average_clustering(Mg2Wg(M))\n",
    "print '原始网络的平均聚类系数:',origin"
   ]
  },
  {
   "cell_type": "code",
   "execution_count": 24,
   "metadata": {
    "collapsed": false
   },
   "outputs": [
    {
     "name": "stdout",
     "output_type": "stream",
     "text": [
      "0阶置乱网络的平均聚类系数: 0.119382559876\n"
     ]
    }
   ],
   "source": [
    "M = createM('./data/edges_swap_0k.txt')\n",
    "edges_swap_0k = nx.average_clustering(Mg2Wg(M))\n",
    "print '0阶置乱网络的平均聚类系数:',edges_swap_0k"
   ]
  },
  {
   "cell_type": "code",
   "execution_count": 26,
   "metadata": {
    "collapsed": false
   },
   "outputs": [
    {
     "name": "stdout",
     "output_type": "stream",
     "text": [
      "1阶置乱网络的平均聚类系数: 0.503358357072\n"
     ]
    }
   ],
   "source": [
    "M = createM('./data/edges_swap_1k.txt')\n",
    "edges_swap_1k = nx.average_clustering(Mg2Wg(M))\n",
    "print '1阶置乱网络的平均聚类系数:',edges_swap_1k"
   ]
  },
  {
   "cell_type": "code",
   "execution_count": 31,
   "metadata": {
    "collapsed": false
   },
   "outputs": [
    {
     "name": "stdout",
     "output_type": "stream",
     "text": [
      "KeepDayMode置乱网络的平均聚类系数: 0.0\n"
     ]
    }
   ],
   "source": [
    "M = createM('./data/KeepDayMode.txt')\n",
    "KeepDayMode = nx.average_clustering(Mg2Wg(M))\n",
    "print 'KeepDayMode置乱网络的平均聚类系数:',KeepDayMode"
   ]
  },
  {
   "cell_type": "code",
   "execution_count": 32,
   "metadata": {
    "collapsed": false
   },
   "outputs": [
    {
     "name": "stdout",
     "output_type": "stream",
     "text": [
      "KeepWeekMode置乱网络的平均聚类系数: 0.503504819173\n"
     ]
    }
   ],
   "source": [
    "M = createM('./data/KeepWeekMode.txt')\n",
    "KeepWeekMode = nx.average_clustering(Mg2Wg(M))\n",
    "print 'KeepWeekMode置乱网络的平均聚类系数:',KeepWeekMode"
   ]
  },
  {
   "cell_type": "code",
   "execution_count": 33,
   "metadata": {
    "collapsed": false
   },
   "outputs": [
    {
     "name": "stdout",
     "output_type": "stream",
     "text": [
      "KeepMonthMode置乱网络的平均聚类系数: 0.503504819173\n"
     ]
    }
   ],
   "source": [
    "M = createM('./data/KeepMonthMode.txt')\n",
    "KeepMonthMode = nx.average_clustering(Mg2Wg(M))\n",
    "print 'KeepMonthMode置乱网络的平均聚类系数:',KeepMonthMode"
   ]
  },
  {
   "cell_type": "code",
   "execution_count": 39,
   "metadata": {
    "collapsed": false
   },
   "outputs": [
    {
     "name": "stdout",
     "output_type": "stream",
     "text": [
      "时权置乱网络的平均聚类系数: 0.503504819173\n"
     ]
    }
   ],
   "source": [
    "M = createM('./data/timeweight_swap.txt')\n",
    "timeweight_swap = nx.average_clustering(Mg2Wg(M))\n",
    "print '时权置乱网络的平均聚类系数:',timeweight_swap"
   ]
  },
  {
   "cell_type": "code",
   "execution_count": 34,
   "metadata": {
    "collapsed": false
   },
   "outputs": [
    {
     "name": "stdout",
     "output_type": "stream",
     "text": [
      "等时权置乱网络的平均聚类系数: 0.503504819173\n"
     ]
    }
   ],
   "source": [
    "M = createM('./data/sametimeweight_swap.txt')\n",
    "sametimeweight_swap = nx.average_clustering(Mg2Wg(M))\n",
    "print '等时权置乱网络的平均聚类系数:',sametimeweight_swap"
   ]
  },
  {
   "cell_type": "code",
   "execution_count": 38,
   "metadata": {
    "collapsed": false
   },
   "outputs": [
    {
     "name": "stdout",
     "output_type": "stream",
     "text": [
      "时间置乱网络的平均聚类系数: 0.503358357072\n"
     ]
    }
   ],
   "source": [
    "M = createM('./data/time_swap.txt')\n",
    "time_swap = nx.average_clustering(Mg2Wg(M))\n",
    "print '时间置乱网络的平均聚类系数:',time_swap"
   ]
  },
  {
   "cell_type": "code",
   "execution_count": 35,
   "metadata": {
    "collapsed": false
   },
   "outputs": [
    {
     "name": "stdout",
     "output_type": "stream",
     "text": [
      "时间随机化置乱网络的平均聚类系数: 0.503504819173\n"
     ]
    }
   ],
   "source": [
    "M = createM('./data/time_random.txt')\n",
    "time_randomcreate = nx.average_clustering(Mg2Wg(M))\n",
    "print '时间随机化置乱网络的平均聚类系数:',time_randomcreate"
   ]
  },
  {
   "cell_type": "code",
   "execution_count": 36,
   "metadata": {
    "collapsed": false
   },
   "outputs": [
    {
     "name": "stdout",
     "output_type": "stream",
     "text": [
      "接触置乱网络的平均聚类系数: 0.503504819173\n"
     ]
    }
   ],
   "source": [
    "M = createM('./data/time_randomswap.txt')\n",
    "touch_swap = nx.average_clustering(Mg2Wg(M))\n",
    "print '接触置乱网络的平均聚类系数:',touch_swap"
   ]
  },
  {
   "cell_type": "code",
   "execution_count": 37,
   "metadata": {
    "collapsed": false
   },
   "outputs": [
    {
     "name": "stdout",
     "output_type": "stream",
     "text": [
      "时间倒转置乱网络的平均聚类系数: 0.503504819173\n"
     ]
    }
   ],
   "source": [
    "M = createM('./data/time_reverse.txt')\n",
    "time_reverse = nx.average_clustering(Mg2Wg(M))\n",
    "print '时间倒转置乱网络的平均聚类系数:',time_reverse"
   ]
  },
  {
   "cell_type": "code",
   "execution_count": 43,
   "metadata": {
    "collapsed": true
   },
   "outputs": [
    {
     "data": {
      "text/html": [
       "<div>\n",
       "<table border=\"1\" class=\"dataframe\">\n",
       "  <thead>\n",
       "    <tr style=\"text-align: right;\">\n",
       "      <th></th>\n",
       "      <th>counts</th>\n",
       "    </tr>\n",
       "  </thead>\n",
       "  <tbody>\n",
       "    <tr>\n",
       "      <th>KeepDayMode</th>\n",
       "      <td>0.000000</td>\n",
       "    </tr>\n",
       "    <tr>\n",
       "      <th>edges_swap_0k</th>\n",
       "      <td>0.119383</td>\n",
       "    </tr>\n",
       "    <tr>\n",
       "      <th>edges_swap_1k</th>\n",
       "      <td>0.503358</td>\n",
       "    </tr>\n",
       "    <tr>\n",
       "      <th>time_swap</th>\n",
       "      <td>0.503358</td>\n",
       "    </tr>\n",
       "    <tr>\n",
       "      <th>time_reverse</th>\n",
       "      <td>0.503505</td>\n",
       "    </tr>\n",
       "    <tr>\n",
       "      <th>origin</th>\n",
       "      <td>0.503505</td>\n",
       "    </tr>\n",
       "    <tr>\n",
       "      <th>KeepMonthMode</th>\n",
       "      <td>0.503505</td>\n",
       "    </tr>\n",
       "    <tr>\n",
       "      <th>timeweight_swap</th>\n",
       "      <td>0.503505</td>\n",
       "    </tr>\n",
       "    <tr>\n",
       "      <th>sametimeweight_swap</th>\n",
       "      <td>0.503505</td>\n",
       "    </tr>\n",
       "    <tr>\n",
       "      <th>touch_swap</th>\n",
       "      <td>0.503505</td>\n",
       "    </tr>\n",
       "    <tr>\n",
       "      <th>time_random</th>\n",
       "      <td>0.503505</td>\n",
       "    </tr>\n",
       "    <tr>\n",
       "      <th>KeepWeekMode</th>\n",
       "      <td>0.503505</td>\n",
       "    </tr>\n",
       "  </tbody>\n",
       "</table>\n",
       "</div>"
      ],
      "text/plain": [
       "                       counts\n",
       "KeepDayMode          0.000000\n",
       "edges_swap_0k        0.119383\n",
       "edges_swap_1k        0.503358\n",
       "time_swap            0.503358\n",
       "time_reverse         0.503505\n",
       "origin               0.503505\n",
       "KeepMonthMode        0.503505\n",
       "timeweight_swap      0.503505\n",
       "sametimeweight_swap  0.503505\n",
       "touch_swap           0.503505\n",
       "time_random          0.503505\n",
       "KeepWeekMode         0.503505"
      ]
     },
     "execution_count": 43,
     "metadata": {},
     "output_type": "execute_result"
    }
   ],
   "source": [
    "d = {'origin':origin,\n",
    "      'touch_swap':touch_swap,\n",
    "      'time_random':time_randomcreate,\n",
    "      'edges_swap_0k':edges_swap_0k,\n",
    "      'edges_swap_1k':edges_swap_1k,\n",
    "      'KeepDayMode':KeepDayMode,\n",
    "      'KeepMonthMode':KeepMonthMode,\n",
    "      'KeepWeekMode':KeepWeekMode,\n",
    "      'sametimeweight_swap':sametimeweight_swap,\n",
    "      'time_reverse':time_reverse,\n",
    "      'time_swap':time_swap,\n",
    "      'timeweight_swap':timeweight_swap}\n",
    "df = pd.DataFrame(data=d.values(), index=d.keys())\n",
    "df.columns = ['counts']\n",
    "df = df.sort_values('counts')\n",
    "df"
   ]
  },
  {
   "cell_type": "code",
   "execution_count": 46,
   "metadata": {
    "collapsed": false,
    "scrolled": true
   },
   "outputs": [
    {
     "data": {
      "text/plain": [
       "<matplotlib.text.Text at 0x7f5e6aea6d10>"
      ]
     },
     "execution_count": 46,
     "metadata": {},
     "output_type": "execute_result"
    },
    {
     "data": {
      "image/png": "[encoded data removed]",
      "text/plain": [
       "<matplotlib.figure.Figure at 0x7f5e6accb9d0>"
      ]
     },
     "metadata": {},
     "output_type": "display_data"
    }
   ],
   "source": [
    "df.plot(kind='bar',rot=90)\n",
    "plt.title('average_clustering of different nullmodel')"
   ]
  },
  {
   "cell_type": "code",
   "execution_count": 4,
   "metadata": {
    "collapsed": false
   },
   "outputs": [
    {
     "name": "stdout",
     "output_type": "stream",
     "text": [
      "原始网络的匹配系数: 0.033175769936\n"
     ]
    }
   ],
   "source": [
    "M = createM('./data/High-School_data.txt')\n",
    "origin = nx.degree_assortativity_coefficient(Mg2Wg(M))\n",
    "print '原始网络的匹配系数:',origin"
   ]
  },
  {
   "cell_type": "code",
   "execution_count": 5,
   "metadata": {
    "collapsed": false
   },
   "outputs": [
    {
     "name": "stdout",
     "output_type": "stream",
     "text": [
      "0阶置乱网络的匹配系数: 0.0140865413156\n"
     ]
    }
   ],
   "source": [
    "M = createM('./data/edges_swap_0k.txt')\n",
    "edges_swap_0k = nx.degree_assortativity_coefficient(Mg2Wg(M))\n",
    "print '0阶置乱网络的匹配系数:',edges_swap_0k"
   ]
  },
  {
   "cell_type": "code",
   "execution_count": 6,
   "metadata": {
    "collapsed": false
   },
   "outputs": [
    {
     "name": "stdout",
     "output_type": "stream",
     "text": [
      "1阶置乱网络的匹配系数: 0.033050069494\n"
     ]
    }
   ],
   "source": [
    "M = createM('./data/edges_swap_1k.txt')\n",
    "edges_swap_1k = nx.degree_assortativity_coefficient(Mg2Wg(M))\n",
    "print '1阶置乱网络的匹配系数:',edges_swap_1k"
   ]
  },
  {
   "cell_type": "code",
   "execution_count": 7,
   "metadata": {
    "collapsed": false
   },
   "outputs": [
    {
     "name": "stdout",
     "output_type": "stream",
     "text": [
      "KeepDayMode置乱网络的匹配系数: -0.0075723830735\n"
     ]
    }
   ],
   "source": [
    "M = createM('./data/KeepDayMode.txt')\n",
    "KeepDayMode = nx.degree_assortativity_coefficient(Mg2Wg(M))\n",
    "print 'KeepDayMode置乱网络的匹配系数:',KeepDayMode"
   ]
  },
  {
   "cell_type": "code",
   "execution_count": 9,
   "metadata": {
    "collapsed": false
   },
   "outputs": [
    {
     "name": "stdout",
     "output_type": "stream",
     "text": [
      "KeepMonthMode置乱网络的匹配系数: 0.033175769936\n"
     ]
    }
   ],
   "source": [
    "M = createM('./data/KeepMonthMode.txt')\n",
    "KeepMonthMode = nx.degree_assortativity_coefficient(Mg2Wg(M))\n",
    "print 'KeepMonthMode置乱网络的匹配系数:',KeepMonthMode"
   ]
  },
  {
   "cell_type": "code",
   "execution_count": 10,
   "metadata": {
    "collapsed": false
   },
   "outputs": [
    {
     "name": "stdout",
     "output_type": "stream",
     "text": [
      "KeepWeekMode置乱网络的匹配系数: 0.033175769936\n"
     ]
    }
   ],
   "source": [
    "M = createM('./data/KeepWeekMode.txt')\n",
    "KeepWeekMode = nx.degree_assortativity_coefficient(Mg2Wg(M))\n",
    "print 'KeepWeekMode置乱网络的匹配系数:',KeepWeekMode"
   ]
  },
  {
   "cell_type": "code",
   "execution_count": 11,
   "metadata": {
    "collapsed": false
   },
   "outputs": [
    {
     "name": "stdout",
     "output_type": "stream",
     "text": [
      "timeweight_swap置乱网络的匹配系数: 0.033175769936\n"
     ]
    }
   ],
   "source": [
    "M = createM('./data/timeweight_swap.txt')\n",
    "timeweight_swap = nx.degree_assortativity_coefficient(Mg2Wg(M))\n",
    "print 'timeweight_swap置乱网络的匹配系数:',timeweight_swap"
   ]
  },
  {
   "cell_type": "code",
   "execution_count": 12,
   "metadata": {
    "collapsed": false
   },
   "outputs": [
    {
     "name": "stdout",
     "output_type": "stream",
     "text": [
      "等时权置乱网络的匹配系数: 0.033175769936\n"
     ]
    }
   ],
   "source": [
    "M = createM('./data/sametimeweight_swap.txt')\n",
    "sametimeweight_swap = nx.degree_assortativity_coefficient(Mg2Wg(M))\n",
    "print '等时权置乱网络的匹配系数:',sametimeweight_swap"
   ]
  },
  {
   "cell_type": "code",
   "execution_count": 13,
   "metadata": {
    "collapsed": false
   },
   "outputs": [
    {
     "name": "stdout",
     "output_type": "stream",
     "text": [
      "时间置乱网络的匹配系数: 0.033050069494\n"
     ]
    }
   ],
   "source": [
    "M = createM('./data/time_swap.txt')\n",
    "time_swap = nx.degree_assortativity_coefficient(Mg2Wg(M))\n",
    "print '时间置乱网络的匹配系数:',time_swap"
   ]
  },
  {
   "cell_type": "code",
   "execution_count": 14,
   "metadata": {
    "collapsed": false
   },
   "outputs": [
    {
     "name": "stdout",
     "output_type": "stream",
     "text": [
      "时间随机化置乱网络的匹配系数: 0.033175769936\n"
     ]
    }
   ],
   "source": [
    "M = createM('./data/time_random.txt')\n",
    "time_randomcreate = nx.degree_assortativity_coefficient(Mg2Wg(M))\n",
    "print '时间随机化置乱网络的匹配系数:',time_randomcreate"
   ]
  },
  {
   "cell_type": "code",
   "execution_count": 15,
   "metadata": {
    "collapsed": false
   },
   "outputs": [
    {
     "name": "stdout",
     "output_type": "stream",
     "text": [
      "接触置乱网络的匹配系数: 0.033175769936\n"
     ]
    }
   ],
   "source": [
    "M = createM('./data/time_randomswap.txt')\n",
    "touch_swap = nx.degree_assortativity_coefficient(Mg2Wg(M))\n",
    "print '接触置乱网络的匹配系数:',touch_swap"
   ]
  },
  {
   "cell_type": "code",
   "execution_count": 16,
   "metadata": {
    "collapsed": false
   },
   "outputs": [
    {
     "name": "stdout",
     "output_type": "stream",
     "text": [
      "时间倒转置乱网络的匹配系数: 0.033175769936\n"
     ]
    }
   ],
   "source": [
    "M = createM('./data/time_reverse.txt')\n",
    "time_reverse = nx.degree_assortativity_coefficient(Mg2Wg(M))\n",
    "print '时间倒转置乱网络的匹配系数:',time_reverse"
   ]
  },
  {
   "cell_type": "code",
   "execution_count": 18,
   "metadata": {
    "collapsed": false
   },
   "outputs": [
    {
     "data": {
      "text/plain": [
       "<matplotlib.text.Text at 0x7f2baa351150>"
      ]
     },
     "execution_count": 18,
     "metadata": {},
     "output_type": "execute_result"
    },
    {
     "data": {
      "image/png": "[encoded data removed]",
      "text/plain": [
       "<matplotlib.figure.Figure at 0x7f2baac44dd0>"
      ]
     },
     "metadata": {},
     "output_type": "display_data"
    }
   ],
   "source": [
    "d = {'origin':origin,\n",
    "      'touch_swap':touch_swap,\n",
    "      'time_random':time_randomcreate,\n",
    "      'edges_swap_0k':edges_swap_0k,\n",
    "      'edges_swap_1k':edges_swap_1k,\n",
    "      'KeepDayMode':KeepDayMode,\n",
    "      'KeepMonthMode':KeepMonthMode,\n",
    "      'KeepWeekMode':KeepWeekMode,\n",
    "      'sametimeweight_swap':sametimeweight_swap,\n",
    "      'time_reverse':time_reverse,\n",
    "      'time_swap':time_swap,\n",
    "      'timeweight_swap':timeweight_swap}\n",
    "df = pd.DataFrame(data=d.values(), index=d.keys())\n",
    "df.columns = ['counts']\n",
    "df = df.sort_values('counts')\n",
    "df.plot(kind='bar',rot=90)\n",
    "plt.title('degree_assortativity_coefficient of different nullmodel')"
   ]
  },
  {
   "cell_type": "code",
   "execution_count": 19,
   "metadata": {
    "collapsed": false
   },
   "outputs": [
    {
     "name": "stdout",
     "output_type": "stream",
     "text": [
      "原始网络的平均最短路径: 2.15943415696\n"
     ]
    }
   ],
   "source": [
    "M = createM('./data/High-School_data.txt')\n",
    "origin = nx.average_shortest_path_length(Mg2Wg(M))\n",
    "print '原始网络的平均最短路径:',origin"
   ]
  },
  {
   "cell_type": "code",
   "execution_count": 21,
   "metadata": {
    "collapsed": false
   },
   "outputs": [
    {
     "name": "stdout",
     "output_type": "stream",
     "text": [
      "0阶置乱网络的平均最短路径: 1.92328474137\n"
     ]
    }
   ],
   "source": [
    "M = createM('./data/edges_swap_0k.txt')\n",
    "edges_swap_0k = nx.average_shortest_path_length(Mg2Wg(M))\n",
    "print '0阶置乱网络的平均最短路径:',edges_swap_0k"
   ]
  },
  {
   "cell_type": "code",
   "execution_count": 22,
   "metadata": {
    "collapsed": false
   },
   "outputs": [
    {
     "name": "stdout",
     "output_type": "stream",
     "text": [
      "1阶置乱网络的平均最短路径: 2.15947167971\n"
     ]
    }
   ],
   "source": [
    "M = createM('./data/edges_swap_1k.txt')\n",
    "edges_swap_1k = nx.average_shortest_path_length(Mg2Wg(M))\n",
    "print '1阶置乱网络的平均最短路径:',edges_swap_1k"
   ]
  },
  {
   "cell_type": "code",
   "execution_count": 32,
   "metadata": {
    "collapsed": false
   },
   "outputs": [
    {
     "name": "stdout",
     "output_type": "stream",
     "text": [
      "KeepDayMode置乱网络的平均最短路径: 2.88888888889\n"
     ]
    }
   ],
   "source": [
    "M = createM('./data/KeepDayMode.txt')\n",
    "M = max(nx.connected_component_subgraphs(Mg2Wg(M)), key=len)\n",
    "KeepDayMode = nx.average_shortest_path_length(M)\n",
    "print 'KeepDayMode置乱网络的平均最短路径:',KeepDayMode"
   ]
  },
  {
   "cell_type": "code",
   "execution_count": 33,
   "metadata": {
    "collapsed": false
   },
   "outputs": [
    {
     "name": "stdout",
     "output_type": "stream",
     "text": [
      "KeepMonthMode置乱网络的平均最短路径: 2.15943415696\n"
     ]
    }
   ],
   "source": [
    "M = createM('./data/KeepMonthMode.txt')\n",
    "M = max(nx.connected_component_subgraphs(Mg2Wg(M)), key=len)\n",
    "KeepMonthMode = nx.average_shortest_path_length(M)\n",
    "print 'KeepMonthMode置乱网络的平均最短路径:',KeepMonthMode"
   ]
  },
  {
   "cell_type": "code",
   "execution_count": 34,
   "metadata": {
    "collapsed": false
   },
   "outputs": [
    {
     "name": "stdout",
     "output_type": "stream",
     "text": [
      "KeepWeekMode置乱网络的平均最短路径: 2.15943415696\n"
     ]
    }
   ],
   "source": [
    "M = createM('./data/KeepWeekMode.txt')\n",
    "M = max(nx.connected_component_subgraphs(Mg2Wg(M)), key=len)\n",
    "KeepWeekMode = nx.average_shortest_path_length(M)\n",
    "print 'KeepWeekMode置乱网络的平均最短路径:',KeepWeekMode"
   ]
  },
  {
   "cell_type": "code",
   "execution_count": 35,
   "metadata": {
    "collapsed": false
   },
   "outputs": [
    {
     "name": "stdout",
     "output_type": "stream",
     "text": [
      "timeweight_swap置乱网络的平均最短路径: 2.15943415696\n"
     ]
    }
   ],
   "source": [
    "M = createM('./data/timeweight_swap.txt')\n",
    "M = max(nx.connected_component_subgraphs(Mg2Wg(M)), key=len)\n",
    "timeweight_swap = nx.average_shortest_path_length(M)\n",
    "print 'timeweight_swap置乱网络的平均最短路径:',timeweight_swap"
   ]
  },
  {
   "cell_type": "code",
   "execution_count": 36,
   "metadata": {
    "collapsed": false
   },
   "outputs": [
    {
     "name": "stdout",
     "output_type": "stream",
     "text": [
      "sametimeweight_swap置乱网络的平均最短路径: 2.15943415696\n"
     ]
    }
   ],
   "source": [
    "M = createM('./data/sametimeweight_swap.txt')\n",
    "M = max(nx.connected_component_subgraphs(Mg2Wg(M)), key=len)\n",
    "sametimeweight_swap = nx.average_shortest_path_length(M)\n",
    "print 'sametimeweight_swap置乱网络的平均最短路径:',sametimeweight_swap"
   ]
  },
  {
   "cell_type": "code",
   "execution_count": 37,
   "metadata": {
    "collapsed": false
   },
   "outputs": [
    {
     "name": "stdout",
     "output_type": "stream",
     "text": [
      "time_swap置乱网络的平均最短路径: 2.15947167971\n"
     ]
    }
   ],
   "source": [
    "M = createM('./data/time_swap.txt')\n",
    "M = max(nx.connected_component_subgraphs(Mg2Wg(M)), key=len)\n",
    "time_swap = nx.average_shortest_path_length(M)\n",
    "print 'time_swap置乱网络的平均最短路径:',time_swap"
   ]
  },
  {
   "cell_type": "code",
   "execution_count": 38,
   "metadata": {
    "collapsed": false
   },
   "outputs": [
    {
     "name": "stdout",
     "output_type": "stream",
     "text": [
      "time_random置乱网络的平均最短路径: 2.15943415696\n"
     ]
    }
   ],
   "source": [
    "M = createM('./data/time_random.txt')\n",
    "M = max(nx.connected_component_subgraphs(Mg2Wg(M)), key=len)\n",
    "time_random = nx.average_shortest_path_length(M)\n",
    "print 'time_random置乱网络的平均最短路径:',time_random"
   ]
  },
  {
   "cell_type": "code",
   "execution_count": 39,
   "metadata": {
    "collapsed": false
   },
   "outputs": [
    {
     "name": "stdout",
     "output_type": "stream",
     "text": [
      "time_randomswap置乱网络的平均最短路径: 2.15943415696\n"
     ]
    }
   ],
   "source": [
    "M = createM('./data/time_randomswap.txt')\n",
    "M = max(nx.connected_component_subgraphs(Mg2Wg(M)), key=len)\n",
    "time_randomswap = nx.average_shortest_path_length(M)\n",
    "print 'time_randomswap置乱网络的平均最短路径:',time_randomswap"
   ]
  },
  {
   "cell_type": "code",
   "execution_count": 40,
   "metadata": {
    "collapsed": false
   },
   "outputs": [
    {
     "name": "stdout",
     "output_type": "stream",
     "text": [
      "time_reverse置乱网络的平均最短路径: 2.15943415696\n"
     ]
    }
   ],
   "source": [
    "M = createM('./data/time_reverse.txt')\n",
    "M = max(nx.connected_component_subgraphs(Mg2Wg(M)), key=len)\n",
    "time_reverse = nx.average_shortest_path_length(M)\n",
    "print 'time_reverse置乱网络的平均最短路径:',time_reverse"
   ]
  },
  {
   "cell_type": "code",
   "execution_count": 41,
   "metadata": {
    "collapsed": false
   },
   "outputs": [
    {
     "data": {
      "text/plain": [
       "<matplotlib.text.Text at 0x7f2baa37b550>"
      ]
     },
     "execution_count": 41,
     "metadata": {},
     "output_type": "execute_result"
    },
    {
     "data": {
      "image/png": "[encoded data removed]",
      "text/plain": [
       "<matplotlib.figure.Figure at 0x7f2baa9fd690>"
      ]
     },
     "metadata": {},
     "output_type": "display_data"
    }
   ],
   "source": [
    "d = {'origin':origin,\n",
    "      'touch_swap':touch_swap,\n",
    "      'time_random':time_randomcreate,\n",
    "      'edges_swap_0k':edges_swap_0k,\n",
    "      'edges_swap_1k':edges_swap_1k,\n",
    "      'KeepDayMode':KeepDayMode,\n",
    "      'KeepMonthMode':KeepMonthMode,\n",
    "      'KeepWeekMode':KeepWeekMode,\n",
    "      'sametimeweight_swap':sametimeweight_swap,\n",
    "      'time_reverse':time_reverse,\n",
    "      'time_swap':time_swap,\n",
    "      'timeweight_swap':timeweight_swap}\n",
    "df = pd.DataFrame(data=d.values(), index=d.keys())\n",
    "df.columns = ['counts']\n",
    "df = df.sort_values('counts')\n",
    "df.plot(kind='bar',rot=90)\n",
    "plt.title('average_shortest_path_length of different nullmodel')"
   ]
  }
 ],
 "metadata": {
  "kernelspec": {
   "display_name": "Python 2",
   "language": "python",
   "name": "python2"
  },
  "language_info": {
   "codemirror_mode": {
    "name": "ipython",
    "version": 2
   },
   "file_extension": ".py",
   "mimetype": "text/x-python",
   "name": "python",
   "nbconvert_exporter": "python",
   "pygments_lexer": "ipython2",
   "version": "2.7.13"
  }
 },
 "nbformat": 4,
 "nbformat_minor": 2
}
